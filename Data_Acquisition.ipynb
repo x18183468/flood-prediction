{
 "cells": [
  {
   "cell_type": "code",
   "execution_count": 2,
   "metadata": {},
   "outputs": [],
   "source": [
    "import pandas as pd"
   ]
  },
  {
   "cell_type": "code",
   "execution_count": 3,
   "metadata": {},
   "outputs": [],
   "source": [
    "rainfall = pd.read_csv(\"https://environment.data.gov.uk/flood-monitoring/id/stations/550148/readings.csv?since=2017-01-01&_limit=10000\")\n",
    "temperature = pd.read_csv(\"https://environment.data.gov.uk/flood-monitoring/id/stations/3901/readings.csv?since=2017-01-01&_limit=10000\")\n",
    "rest_all = pd.read_csv(\"https://environment.data.gov.uk/flood-monitoring/id/stations/694670/readings.csv?since=2017-01-01&_limit=10000\")"
   ]
  },
  {
   "cell_type": "code",
   "execution_count": 4,
   "metadata": {},
   "outputs": [
    {
     "data": {
      "text/html": [
       "<div>\n",
       "<style scoped>\n",
       "    .dataframe tbody tr th:only-of-type {\n",
       "        vertical-align: middle;\n",
       "    }\n",
       "\n",
       "    .dataframe tbody tr th {\n",
       "        vertical-align: top;\n",
       "    }\n",
       "\n",
       "    .dataframe thead th {\n",
       "        text-align: right;\n",
       "    }\n",
       "</style>\n",
       "<table border=\"1\" class=\"dataframe\">\n",
       "  <thead>\n",
       "    <tr style=\"text-align: right;\">\n",
       "      <th></th>\n",
       "      <th>dateTime</th>\n",
       "      <th>measure</th>\n",
       "      <th>value</th>\n",
       "    </tr>\n",
       "  </thead>\n",
       "  <tbody>\n",
       "    <tr>\n",
       "      <th>0</th>\n",
       "      <td>2020-07-14T00:00:00Z</td>\n",
       "      <td>http://environment.data.gov.uk/flood-monitorin...</td>\n",
       "      <td>14.40</td>\n",
       "    </tr>\n",
       "    <tr>\n",
       "      <th>1</th>\n",
       "      <td>2020-07-14T00:15:00Z</td>\n",
       "      <td>http://environment.data.gov.uk/flood-monitorin...</td>\n",
       "      <td>14.49</td>\n",
       "    </tr>\n",
       "    <tr>\n",
       "      <th>2</th>\n",
       "      <td>2020-07-14T00:30:00Z</td>\n",
       "      <td>http://environment.data.gov.uk/flood-monitorin...</td>\n",
       "      <td>14.53</td>\n",
       "    </tr>\n",
       "    <tr>\n",
       "      <th>3</th>\n",
       "      <td>2020-07-14T00:45:00Z</td>\n",
       "      <td>http://environment.data.gov.uk/flood-monitorin...</td>\n",
       "      <td>14.49</td>\n",
       "    </tr>\n",
       "    <tr>\n",
       "      <th>4</th>\n",
       "      <td>2020-07-14T01:00:00Z</td>\n",
       "      <td>http://environment.data.gov.uk/flood-monitorin...</td>\n",
       "      <td>14.48</td>\n",
       "    </tr>\n",
       "    <tr>\n",
       "      <th>...</th>\n",
       "      <td>...</td>\n",
       "      <td>...</td>\n",
       "      <td>...</td>\n",
       "    </tr>\n",
       "    <tr>\n",
       "      <th>2812</th>\n",
       "      <td>2020-08-12T07:00:00Z</td>\n",
       "      <td>http://environment.data.gov.uk/flood-monitorin...</td>\n",
       "      <td>19.49</td>\n",
       "    </tr>\n",
       "    <tr>\n",
       "      <th>2813</th>\n",
       "      <td>2020-08-12T07:15:00Z</td>\n",
       "      <td>http://environment.data.gov.uk/flood-monitorin...</td>\n",
       "      <td>20.58</td>\n",
       "    </tr>\n",
       "    <tr>\n",
       "      <th>2814</th>\n",
       "      <td>2020-08-12T07:30:00Z</td>\n",
       "      <td>http://environment.data.gov.uk/flood-monitorin...</td>\n",
       "      <td>20.81</td>\n",
       "    </tr>\n",
       "    <tr>\n",
       "      <th>2815</th>\n",
       "      <td>2020-08-12T07:45:00Z</td>\n",
       "      <td>http://environment.data.gov.uk/flood-monitorin...</td>\n",
       "      <td>21.42</td>\n",
       "    </tr>\n",
       "    <tr>\n",
       "      <th>2816</th>\n",
       "      <td>2020-08-12T08:00:00Z</td>\n",
       "      <td>http://environment.data.gov.uk/flood-monitorin...</td>\n",
       "      <td>22.18</td>\n",
       "    </tr>\n",
       "  </tbody>\n",
       "</table>\n",
       "<p>2817 rows × 3 columns</p>\n",
       "</div>"
      ],
      "text/plain": [
       "                  dateTime                                            measure  \\\n",
       "0     2020-07-14T00:00:00Z  http://environment.data.gov.uk/flood-monitorin...   \n",
       "1     2020-07-14T00:15:00Z  http://environment.data.gov.uk/flood-monitorin...   \n",
       "2     2020-07-14T00:30:00Z  http://environment.data.gov.uk/flood-monitorin...   \n",
       "3     2020-07-14T00:45:00Z  http://environment.data.gov.uk/flood-monitorin...   \n",
       "4     2020-07-14T01:00:00Z  http://environment.data.gov.uk/flood-monitorin...   \n",
       "...                    ...                                                ...   \n",
       "2812  2020-08-12T07:00:00Z  http://environment.data.gov.uk/flood-monitorin...   \n",
       "2813  2020-08-12T07:15:00Z  http://environment.data.gov.uk/flood-monitorin...   \n",
       "2814  2020-08-12T07:30:00Z  http://environment.data.gov.uk/flood-monitorin...   \n",
       "2815  2020-08-12T07:45:00Z  http://environment.data.gov.uk/flood-monitorin...   \n",
       "2816  2020-08-12T08:00:00Z  http://environment.data.gov.uk/flood-monitorin...   \n",
       "\n",
       "      value  \n",
       "0     14.40  \n",
       "1     14.49  \n",
       "2     14.53  \n",
       "3     14.49  \n",
       "4     14.48  \n",
       "...     ...  \n",
       "2812  19.49  \n",
       "2813  20.58  \n",
       "2814  20.81  \n",
       "2815  21.42  \n",
       "2816  22.18  \n",
       "\n",
       "[2817 rows x 3 columns]"
      ]
     },
     "execution_count": 4,
     "metadata": {},
     "output_type": "execute_result"
    }
   ],
   "source": [
    "temperature"
   ]
  },
  {
   "cell_type": "code",
   "execution_count": 6,
   "metadata": {},
   "outputs": [],
   "source": [
    "rainfall.to_csv(\"Rainfall.csv\",index=False)\n",
    "temperature.to_csv(\"Temperature.csv\",index=False)\n",
    "rest_all.to_csv(\"Wind Speed Direction and River level.csv\",index=False)"
   ]
  },
  {
   "cell_type": "code",
   "execution_count": 7,
   "metadata": {},
   "outputs": [
    {
     "name": "stdout",
     "output_type": "stream",
     "text": [
      "Using bucket flood-prediction-master-dataset\n"
     ]
    }
   ],
   "source": [
    "import datetime\n",
    "import tarfile\n",
    "\n",
    "import boto3 # AWS SDK for python. Provides low-level access to AWS services\n",
    "from sagemaker import get_execution_role\n",
    "import sagemaker\n",
    "\n",
    "m_boto3 = boto3.client('sagemaker') \n",
    "\n",
    "sess = sagemaker.Session()\n",
    "\n",
    "region = sess.boto_session.region_name\n",
    "\n",
    "bucket = 'flood-prediction-master-dataset'  #  specify the S3 bucket to save the file\n",
    "\n",
    "print('Using bucket ' + bucket)"
   ]
  },
  {
   "cell_type": "code",
   "execution_count": 8,
   "metadata": {},
   "outputs": [],
   "source": [
    "# send data to S3. key_prefix is the directory path. path is the local file name which will be saved in S3 with same file name\n",
    "# and bucket is the bucket name \n",
    "\n",
    "upload = sess.upload_data(path='Rainfall.csv', bucket=bucket, key_prefix='raw-datasets/')\n",
    "\n",
    "upload = sess.upload_data(path='Temperature.csv', bucket=bucket, key_prefix='raw-datasets/')\n",
    "\n",
    "upload = sess.upload_data(path='Wind Speed Direction and River level.csv', bucket=bucket, key_prefix='raw-datasets/')"
   ]
  },
  {
   "cell_type": "code",
   "execution_count": null,
   "metadata": {},
   "outputs": [],
   "source": []
  },
  {
   "cell_type": "code",
   "execution_count": null,
   "metadata": {},
   "outputs": [],
   "source": []
  }
 ],
 "metadata": {
  "kernelspec": {
   "display_name": "conda_python3",
   "language": "python",
   "name": "conda_python3"
  },
  "language_info": {
   "codemirror_mode": {
    "name": "ipython",
    "version": 3
   },
   "file_extension": ".py",
   "mimetype": "text/x-python",
   "name": "python",
   "nbconvert_exporter": "python",
   "pygments_lexer": "ipython3",
   "version": "3.6.10"
  }
 },
 "nbformat": 4,
 "nbformat_minor": 4
}
