{
 "cells": [
  {
   "cell_type": "code",
   "execution_count": 1,
   "metadata": {},
   "outputs": [],
   "source": [
    "import pandas as pd"
   ]
  },
  {
   "cell_type": "code",
   "execution_count": 7,
   "metadata": {},
   "outputs": [],
   "source": [
    "#import source file\n",
    "\n",
    "hr_file = pd.read_csv(\"https://flood-prediction-master-dataset.s3.amazonaws.com/ml-sensor-data-1-hr/ml_sensor_data_1_hr.gz\", names=[\"time\",\"river\",\"rain\",\"temperature\",\"wind_direction\",\"wind_speed\"])\n",
    "\n",
    "min_file = pd.read_csv(\"https://flood-prediction-master-dataset.s3.amazonaws.com/ml-sensor-data-15-min/ml_sensor_data_15_min.gz\", names=[\"time\",\"river\",\"rain\",\"temperature\",\"wind_direction\",\"wind_speed\"])"
   ]
  },
  {
   "cell_type": "code",
   "execution_count": 16,
   "metadata": {},
   "outputs": [],
   "source": [
    "#saving as csv file\n",
    "\n",
    "hr_file.to_csv(\"ml_sensor_data_1_hr.csv\",index=False,header=None)\n",
    "min_file.to_csv(\"ml_sensor_data_15_min.csv\",index=False,header=None)"
   ]
  },
  {
   "cell_type": "code",
   "execution_count": 12,
   "metadata": {},
   "outputs": [
    {
     "name": "stdout",
     "output_type": "stream",
     "text": [
      "Using bucket flood-prediction-master-dataset\n"
     ]
    }
   ],
   "source": [
    "import datetime\n",
    "import tarfile\n",
    "\n",
    "import boto3 # AWS SDK for python. Provides low-level access to AWS services\n",
    "from sagemaker import get_execution_role\n",
    "import sagemaker\n",
    "\n",
    "m_boto3 = boto3.client('sagemaker') \n",
    "\n",
    "sess = sagemaker.Session()\n",
    "\n",
    "region = sess.boto_session.region_name\n",
    "\n",
    "bucket = 'flood-prediction-master-dataset'  #  specify the S3 bucket to save the file\n",
    "\n",
    "print('Using bucket ' + bucket)"
   ]
  },
  {
   "cell_type": "code",
   "execution_count": 17,
   "metadata": {},
   "outputs": [],
   "source": [
    "# send data to S3. key_prefix is the directory path. path is the local file name which will be saved in S3 with same file name\n",
    "# and bucket is the bucket name \n",
    "\n",
    "upload = sess.upload_data(path='ml_sensor_data_1_hr.csv', bucket=bucket, key_prefix='ml-sensor-data-1-hr/')\n",
    "\n",
    "upload = sess.upload_data(path='ml_sensor_data_15_min.csv', bucket=bucket, key_prefix='ml-sensor-data-15-min/')"
   ]
  },
  {
   "cell_type": "code",
   "execution_count": null,
   "metadata": {},
   "outputs": [],
   "source": []
  }
 ],
 "metadata": {
  "kernelspec": {
   "display_name": "conda_python3",
   "language": "python",
   "name": "conda_python3"
  },
  "language_info": {
   "codemirror_mode": {
    "name": "ipython",
    "version": 3
   },
   "file_extension": ".py",
   "mimetype": "text/x-python",
   "name": "python",
   "nbconvert_exporter": "python",
   "pygments_lexer": "ipython3",
   "version": "3.6.10"
  }
 },
 "nbformat": 4,
 "nbformat_minor": 4
}
